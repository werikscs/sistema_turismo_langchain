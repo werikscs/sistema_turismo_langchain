{
 "cells": [
  {
   "cell_type": "code",
   "execution_count": 1,
   "id": "202c4c05",
   "metadata": {},
   "outputs": [
    {
     "data": {
      "text/plain": [
       "True"
      ]
     },
     "execution_count": 1,
     "metadata": {},
     "output_type": "execute_result"
    }
   ],
   "source": [
    "from dotenv import find_dotenv, load_dotenv\n",
    "load_dotenv(find_dotenv())"
   ]
  },
  {
   "cell_type": "code",
   "execution_count": 2,
   "id": "6c9d411d",
   "metadata": {},
   "outputs": [
    {
     "name": "stderr",
     "output_type": "stream",
     "text": [
      "/home/weriks/anaconda3/envs/sistema_turismo_langchain/lib/python3.13/site-packages/langchain_pinecone/__init__.py:3: LangChainDeprecationWarning: As of langchain-core 0.3.0, LangChain uses pydantic v2 internally. The langchain_core.pydantic_v1 module was a compatibility shim for pydantic v1, and should no longer be used. Please update the code to import from Pydantic directly.\n",
      "\n",
      "For example, replace imports like: `from langchain_core.pydantic_v1 import BaseModel`\n",
      "with: `from pydantic import BaseModel`\n",
      "or the v1 compatibility namespace if you are working in a code base that has not been fully upgraded to pydantic 2 yet. \tfrom pydantic.v1 import BaseModel\n",
      "\n",
      "  from langchain_pinecone.vectorstores import Pinecone, PineconeVectorStore\n"
     ]
    }
   ],
   "source": [
    "from langchain_community.embeddings import HuggingFaceEmbeddings\n",
    "from langchain_groq import ChatGroq\n",
    "from langchain.prompts import PromptTemplate\n",
    "from langchain_core.output_parsers import StrOutputParser\n",
    "from langchain.document_loaders import TextLoader\n",
    "from langchain.text_splitter import RecursiveCharacterTextSplitter\n",
    "from langchain_pinecone import PineconeVectorStore\n",
    "from langchain_core.runnables import RunnablePassthrough\n",
    "from pinecone import Pinecone, ServerlessSpec"
   ]
  },
  {
   "cell_type": "code",
   "execution_count": 3,
   "id": "19a36fb7",
   "metadata": {},
   "outputs": [],
   "source": [
    "# model = ChatGroq(model='llama-3.1-8b-instant',temperature=0)\n",
    "model = ChatGroq(model='meta-llama/llama-4-maverick-17b-128e-instruct',temperature=0)"
   ]
  },
  {
   "cell_type": "code",
   "execution_count": 4,
   "id": "5cf39107",
   "metadata": {},
   "outputs": [
    {
     "name": "stderr",
     "output_type": "stream",
     "text": [
      "/tmp/ipykernel_939869/1048288091.py:2: LangChainDeprecationWarning: The class `HuggingFaceEmbeddings` was deprecated in LangChain 0.2.2 and will be removed in 1.0. An updated version of the class exists in the :class:`~langchain-huggingface package and should be used instead. To use it run `pip install -U :class:`~langchain-huggingface` and import as `from :class:`~langchain_huggingface import HuggingFaceEmbeddings``.\n",
      "  embeddings_model = HuggingFaceEmbeddings(model_name=model_name)\n"
     ]
    }
   ],
   "source": [
    "model_name = \"sentence-transformers/all-MiniLM-L6-v2\"\n",
    "embeddings_model = HuggingFaceEmbeddings(model_name=model_name)"
   ]
  },
  {
   "cell_type": "code",
   "execution_count": 5,
   "id": "90714abb",
   "metadata": {},
   "outputs": [],
   "source": [
    "pinecone_client = Pinecone()\n",
    "index_name = \"sistema-turismo-langchain\"\n",
    "index_name_exists = False\n",
    "\n",
    "for index in pinecone_client.list_indexes():\n",
    "  index_name = index['name']\n",
    "\n",
    "  if index_name == \"sistema-turismo-langchain\":\n",
    "    index_name_exists = True\n",
    "    break\n",
    "\n",
    "if not index_name_exists:\n",
    "  pinecone_client.create_index(\n",
    "    name=index_name,\n",
    "    metric=\"cosine\",\n",
    "    dimension=384,\n",
    "    spec=ServerlessSpec(cloud=\"aws\", region=\"us-east-1\")\n",
    "  )"
   ]
  },
  {
   "cell_type": "code",
   "execution_count": 6,
   "id": "3aaf2aa3",
   "metadata": {},
   "outputs": [],
   "source": [
    "base_conhecimento_paris = \"./base_conhecimento/paris.txt\"\n",
    "base_conhecimento_rio_de_janeiro = \"./base_conhecimento/rio_de_janeiro.txt\"\n",
    "\n",
    "loader_paris = TextLoader(base_conhecimento_paris)\n",
    "loader_rio = TextLoader(base_conhecimento_rio_de_janeiro)\n",
    "\n",
    "documents_paris = loader_paris.load()\n",
    "documents_rio = loader_rio.load()\n",
    "\n",
    "all_documents = documents_paris + documents_rio\n",
    "\n",
    "text_splitter = RecursiveCharacterTextSplitter(chunk_size=700, chunk_overlap=200)\n",
    "\n",
    "docs_split = text_splitter.split_documents(all_documents)"
   ]
  },
  {
   "cell_type": "code",
   "execution_count": 7,
   "id": "f3487aae",
   "metadata": {},
   "outputs": [],
   "source": [
    "vectorstore = PineconeVectorStore.from_documents(\n",
    "  documents=docs_split,\n",
    "  embedding=embeddings_model,\n",
    "  index_name=index_name\n",
    ")"
   ]
  },
  {
   "cell_type": "code",
   "execution_count": 24,
   "id": "2de95525",
   "metadata": {},
   "outputs": [],
   "source": [
    "retriever = vectorstore.as_retriever(search_type = \"similarity\", search_kwargs={\"k\": 6})"
   ]
  },
  {
   "cell_type": "code",
   "execution_count": 25,
   "id": "41999e40",
   "metadata": {},
   "outputs": [],
   "source": [
    "# Recebe a intenção do usuário e classifica em uma das categorias predefinidas\n",
    "prompt_template_category_definition = PromptTemplate.from_template(\n",
    "  \"\"\"\n",
    "    Classifique a pergunta do usuário em uma das seguintes categorias. Seja muito severo na classificação.\n",
    "    Escreva apenas uma categoria. Por exemplo, se a pergunta for sobre roteiro de viagem, responda apenas \"Roteiro de Viagem\".\n",
    "    Se a pergunta não se enquadrar em nenhuma das categorias, responda apenas \"Geral\".\n",
    "\n",
    "    Categorias:\n",
    "    - Roteiro de Viagem\n",
    "    - Logística de Transporte\n",
    "    - Informações sobre pontos turísticos\n",
    "    - Guia de tradução e idiomas\n",
    "    - Geral\n",
    "\n",
    "    Pergunta: {query}\n",
    "    Classificação:\n",
    "  \"\"\"\n",
    ")\n",
    "\n",
    "chain = (prompt_template_category_definition | model | StrOutputParser())"
   ]
  },
  {
   "cell_type": "code",
   "execution_count": 26,
   "id": "22c7f5ba",
   "metadata": {},
   "outputs": [],
   "source": [
    "# Cadeia para extrair o perfil do usuário\n",
    "\n",
    "prompt_extract_profile = PromptTemplate.from_template(\n",
    "\"\"\"\n",
    "  Analise a consulta do usuário e identifique o perfil do turista.\n",
    "  Se não for possível identificar, retorne \"geral\".\n",
    "\n",
    "  Perfis possíveis: aventura, cultural, gastronômico, relaxante, família.\n",
    "\n",
    "  Consulta do usuário: {query}\n",
    "  Perfil:\n",
    "\"\"\"\n",
    ")\n",
    "\n",
    "profile_extraction_chain = prompt_extract_profile | model | StrOutputParser()"
   ]
  },
  {
   "cell_type": "code",
   "execution_count": 27,
   "id": "143b0301",
   "metadata": {},
   "outputs": [],
   "source": [
    "location_extraction_chain = PromptTemplate(\n",
    "    input_variables=[\"query\"],\n",
    "    template=\"\"\"\n",
    "    Analise a consulta do usuário e identifique a localização mencionada.\n",
    "    Se não for possível identificar, retorne \"não especificado\".\n",
    "\n",
    "    Consulta do usuário: {query}\n",
    "    Localização:\n",
    "  \"\"\"\n",
    ")\n",
    "\n",
    "location_extraction_chain = location_extraction_chain | model | StrOutputParser()"
   ]
  },
  {
   "cell_type": "code",
   "execution_count": 28,
   "id": "9cd88a1e",
   "metadata": {},
   "outputs": [],
   "source": [
    "guide_to_the_assistants = \"\"\"\n",
    "  Sua tarefa é responder à consulta do usuário baseando-se ÚNICA E EXCLUSIVAMENTE no contexto fornecido.\n",
    "  É estritamente proibido utilizar qualquer conhecimento externo ao que foi apresentado no contexto.\n",
    "  Não invente informações. Não complete detalhes que não estão no texto.\n",
    "  Se a resposta para a pergunta não puder ser encontrada no contexto fornecido, você deve responder exatamente:\n",
    "  \"Desculpe, não tenho informações sobre isso na minha base de conhecimento atual.\"\n",
    "  Não tente adivinhar ou inferir informações.\n",
    "\"\"\""
   ]
  },
  {
   "cell_type": "code",
   "execution_count": 29,
   "id": "f2b3510d",
   "metadata": {},
   "outputs": [],
   "source": [
    "prompt_template_travel_itinerary = PromptTemplate(\n",
    "  input_variables=[\"query\", \"profile\", \"context\"],\n",
    "  template=\"\"\"\n",
    "    Guia geral: %s\n",
    "\n",
    "    Você é um assistente especializado em fornecer roteiros de viagem personalizados.\n",
    "    Com base na consulta do usuário, crie um roteiro detalhado que inclua:\n",
    "    - Principais atrações a serem visitadas\n",
    "    - Eventos locais durante o período da viagem\n",
    "    - Sugestões que se alinhem ao perfil do turista.\n",
    "\n",
    "    Perfil do turista: {profile}\n",
    "    Consulta do usuário: {query}\n",
    "    Context: {context}\n",
    "  \"\"\" % guide_to_the_assistants\n",
    ") | model"
   ]
  },
  {
   "cell_type": "code",
   "execution_count": 30,
   "id": "a3a21faf",
   "metadata": {},
   "outputs": [],
   "source": [
    "prompt_template_transport_logistics = PromptTemplate(\n",
    "  input_variables=[\"query\", \"context\"],\n",
    "  template=\"\"\"\n",
    "    Guia geral: %s\n",
    "\n",
    "    Você é um assistente especializado em fornecer informações sobre logística de transporte.\n",
    "    Com base na consulta do usuário, apresente um relatório logístico que inclua:\n",
    "    - Opções de transporte do local\n",
    "    - Sugestões de acomodação\n",
    "    - Dicas práticas para facilitar a viagem\n",
    "\n",
    "    Consulta do usuário: {query}\n",
    "    Context: {context}\n",
    "\n",
    "  \"\"\" % guide_to_the_assistants\n",
    ") | model"
   ]
  },
  {
   "cell_type": "code",
   "execution_count": 31,
   "id": "90c872e5",
   "metadata": {},
   "outputs": [],
   "source": [
    "prompt_template_local_information = PromptTemplate(\n",
    "  input_variables=[\"query\", \"context\"],\n",
    "  template=\"\"\"\n",
    "    Guia geral: %s\n",
    "\n",
    "    Você é um assistente especializado em fornecer informações locais detalhadas.\n",
    "    Com base na consulta do usuário, forneça informações específicas sobre:\n",
    "    - Pontos turísticos\n",
    "    - Restaurantes recomendados\n",
    "    - Horários de funcionamento e outras informações relevantes\n",
    "\n",
    "    Consulta do usuário: {query}\n",
    "    Context: {context}\n",
    "    \"\"\" % guide_to_the_assistants\n",
    ")\n",
    "\n",
    "rag_chain = (\n",
    "  {\"context\": retriever, \"query\": RunnablePassthrough()}\n",
    "  | prompt_template_local_information\n",
    "  | model\n",
    "  | StrOutputParser()\n",
    ")"
   ]
  },
  {
   "cell_type": "code",
   "execution_count": 32,
   "id": "9d1d2aa5",
   "metadata": {},
   "outputs": [],
   "source": [
    "prompt_template_translation_guide = PromptTemplate(\n",
    "  input_variables=[\"query\"],\n",
    "  template= \"\"\"\n",
    "    Guia geral: %s\n",
    "\n",
    "    Você é um assistente especializado em fornecer guias de tradução para viajantes.\n",
    "    Com base na consulta do usuário, crie um guia de tradução que inclua:\n",
    "    - Frases úteis no idioma local\n",
    "    - Dicas culturais para facilitar a comunicação\n",
    "\n",
    "    Consulta do usuário: {query}\n",
    "    \"\"\" % guide_to_the_assistants\n",
    ") | model"
   ]
  },
  {
   "cell_type": "code",
   "execution_count": 33,
   "id": "20c8f586",
   "metadata": {},
   "outputs": [],
   "source": [
    "prompt_template_general = PromptTemplate(\n",
    "\n",
    "  input_variables=[\"query\"],\n",
    "\n",
    "  template=\"\"\"\n",
    "    Guia geral: %s\n",
    "\n",
    "    Você é um assistente de informações gerais.\n",
    "    Se a consulta do usuário não se enquadrar nas categorias de roteiro de viagem,\n",
    "    logística de transporte, informações locais ou guia de tradução,\n",
    "    responda com uma mensagem educada informando que a consulta não pode ser atendida.\n",
    "    E se a localização não estiver nas localizações conhecidas, responda \"Desculpe, não tenho essa informação no momento.\"\n",
    "    E sugira tipos de perguntas que você pode responder.\n",
    "\n",
    "    Consulta do usuário: {query}\n",
    "    \"\"\" % (guide_to_the_assistants)\n",
    ") | model"
   ]
  },
  {
   "cell_type": "code",
   "execution_count": 34,
   "id": "65b0c3d1",
   "metadata": {},
   "outputs": [],
   "source": [
    "def route(category: dict):\n",
    "  data = category[\"category\"].lower()\n",
    "\n",
    "  if \"roteiro de viagem\" in data:\n",
    "    return prompt_template_travel_itinerary\n",
    "  elif \"logística de transporte\" in data:\n",
    "    return prompt_template_transport_logistics\n",
    "  elif \"informações sobre pontos turísticos\" in data:\n",
    "    return prompt_template_local_information\n",
    "  elif \"guia de tradução e idiomas\" in data:\n",
    "    return prompt_template_translation_guide\n",
    "  else:\n",
    "    return prompt_template_general"
   ]
  },
  {
   "cell_type": "code",
   "execution_count": 35,
   "id": "2b5e232b",
   "metadata": {},
   "outputs": [
    {
     "name": "stdout",
     "output_type": "stream",
     "text": [
      "Para uma viagem gastronômica de 3 dias em Paris, algumas das principais atrações recomendadas incluem:\n",
      "\n",
      "1. **Torre Eiffel**: O monumento mais emblemático de Paris, com vistas incríveis da cidade a partir de seus três níveis. Localizada no Champ de Mars, no 7º arrondissement. O horário de funcionamento é geralmente das 9h30 às 23h, mas é recomendável comprar ingressos online com antecedência.\n",
      "\n",
      "2. **Museu do Louvre**: O maior museu de arte do mundo, lar de obras-primas como a Mona Lisa e a Vênus de Milo. Localizado no 1º arrondissement, na margem direita do Sena. É aconselhável planejar a visita com antecedência devido ao tamanho do museu.\n",
      "\n",
      "3. **Centre Pompidou**: Museu de arte moderna com arquitetura inovadora e exposições contemporâneas, localizado no 4º arrondissement.\n",
      "\n",
      "Além disso, os bairros gastronômicos como o Latin Quarter (5º arrondissement) e Saint-Germain (6º arrondissement) são altamente recomendados para experiências gastronômicas.\n",
      "\n",
      "Desculpe, não tenho informações sobre restaurantes específicos na minha base de conhecimento atual.\n"
     ]
    }
   ],
   "source": [
    "# Exemplo 1: Roteiro de Viagem\n",
    "query = \"Estou planejando uma viagem gastronomica de 3 dias em Paris. Quais atrações você recomenda?\"\n",
    "final_response = rag_chain.invoke(query)\n",
    "print(final_response)"
   ]
  },
  {
   "cell_type": "code",
   "execution_count": 36,
   "id": "86f68cca",
   "metadata": {},
   "outputs": [
    {
     "name": "stdout",
     "output_type": "stream",
     "text": [
      "Olá! Para se deslocar do Aeroporto Charles de Gaulle para o centro de Paris, você tem algumas opções eficientes. O trem RER B é uma delas, conectando diretamente o aeroporto ao centro da cidade. Além disso, está previsto para 2025 que novas linhas de metrô automatizadas estarão disponíveis, o que reduzirá ainda mais o tempo de viagem. Você pode utilizar o RER B ou aguardar pelas novas opções de metrô automatizado, dependendo da sua data de viagem e preferências. É sempre uma boa ideia verificar os horários e opções de transporte disponíveis mais atualizados antes da sua viagem.\n"
     ]
    }
   ],
   "source": [
    "# Exemplo 2: Logística de Transporte\n",
    "query = \"Quais são as melhores opções de transporte do aeroporto Charles de Gaulle para o centro de Paris?\"\n",
    "final_response = rag_chain.invoke(query)\n",
    "print(final_response)"
   ]
  }
 ],
 "metadata": {
  "kernelspec": {
   "display_name": "sistema_turismo_langchain",
   "language": "python",
   "name": "python3"
  },
  "language_info": {
   "codemirror_mode": {
    "name": "ipython",
    "version": 3
   },
   "file_extension": ".py",
   "mimetype": "text/x-python",
   "name": "python",
   "nbconvert_exporter": "python",
   "pygments_lexer": "ipython3",
   "version": "3.13.7"
  }
 },
 "nbformat": 4,
 "nbformat_minor": 5
}
