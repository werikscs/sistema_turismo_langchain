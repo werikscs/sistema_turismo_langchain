{
 "cells": [
  {
   "cell_type": "markdown",
   "id": "7d07c79f",
   "metadata": {},
   "source": [
    "### 001 - Carregamento das variáveis de ambiente"
   ]
  },
  {
   "cell_type": "code",
   "execution_count": 133,
   "id": "202c4c05",
   "metadata": {},
   "outputs": [
    {
     "data": {
      "text/plain": [
       "True"
      ]
     },
     "execution_count": 133,
     "metadata": {},
     "output_type": "execute_result"
    }
   ],
   "source": [
    "from dotenv import find_dotenv, load_dotenv\n",
    "load_dotenv(find_dotenv())"
   ]
  },
  {
   "cell_type": "markdown",
   "id": "1b61482b",
   "metadata": {},
   "source": [
    "### 002 - Importação das bibliotecas necessárias"
   ]
  },
  {
   "cell_type": "code",
   "execution_count": 134,
   "id": "6c9d411d",
   "metadata": {},
   "outputs": [],
   "source": [
    "from langchain_community.embeddings import HuggingFaceEmbeddings\n",
    "from langchain_groq import ChatGroq\n",
    "from langchain.prompts import PromptTemplate\n",
    "from langchain_core.output_parsers import StrOutputParser\n",
    "from langchain.document_loaders import TextLoader\n",
    "from langchain.text_splitter import RecursiveCharacterTextSplitter\n",
    "from langchain_pinecone import PineconeVectorStore\n",
    "from langchain_core.runnables import RunnablePassthrough, RunnableBranch\n",
    "from pinecone import Pinecone, ServerlessSpec\n",
    "from operator import itemgetter"
   ]
  },
  {
   "cell_type": "markdown",
   "id": "63657630",
   "metadata": {},
   "source": [
    "### 003 - Definição dos modelos de linguagem"
   ]
  },
  {
   "cell_type": "code",
   "execution_count": 135,
   "id": "19a36fb7",
   "metadata": {},
   "outputs": [],
   "source": [
    "# model = ChatGroq(model='llama-3.1-8b-instant',temperature=0)\n",
    "model = ChatGroq(model='meta-llama/llama-4-maverick-17b-128e-instruct',temperature=0)"
   ]
  },
  {
   "cell_type": "code",
   "execution_count": 136,
   "id": "5cf39107",
   "metadata": {},
   "outputs": [],
   "source": [
    "model_name = \"sentence-transformers/all-MiniLM-L6-v2\"\n",
    "embeddings_model = HuggingFaceEmbeddings(model_name=model_name)"
   ]
  },
  {
   "cell_type": "markdown",
   "id": "baec91fe",
   "metadata": {},
   "source": [
    "### 004 - Configuração do Pinecone e preenchimento do index"
   ]
  },
  {
   "cell_type": "code",
   "execution_count": 137,
   "id": "90714abb",
   "metadata": {},
   "outputs": [],
   "source": [
    "pinecone_client = Pinecone()\n",
    "\n",
    "# Define o index name do Pinecone\n",
    "index_name = \"sistema-turismo-langchain\"\n",
    "index_name_exists = False\n",
    "\n",
    "# Verifica se o index name já existe\n",
    "for index in pinecone_client.list_indexes():\n",
    "  index_name = index['name']\n",
    "\n",
    "  if index_name == \"sistema-turismo-langchain\":\n",
    "    index_name_exists = True\n",
    "    break\n",
    "\n",
    "# Cria o index name caso não exista\n",
    "if not index_name_exists:\n",
    "  pinecone_client.create_index(\n",
    "    name=index_name,\n",
    "    metric=\"cosine\",\n",
    "    dimension=384,\n",
    "    spec=ServerlessSpec(cloud=\"aws\", region=\"us-east-1\")\n",
    "  )"
   ]
  },
  {
   "cell_type": "code",
   "execution_count": 138,
   "id": "3aaf2aa3",
   "metadata": {},
   "outputs": [],
   "source": [
    "base_conhecimento_paris = \"./base_conhecimento/paris.txt\"\n",
    "base_conhecimento_rio_de_janeiro = \"./base_conhecimento/rio_de_janeiro.txt\"\n",
    "\n",
    "# Carrega os documentos de texto\n",
    "loader_paris = TextLoader(base_conhecimento_paris)\n",
    "loader_rio = TextLoader(base_conhecimento_rio_de_janeiro)\n",
    "\n",
    "documents_paris = loader_paris.load()\n",
    "documents_rio = loader_rio.load()\n",
    "\n",
    "# Combina os documentos em uma única lista\n",
    "all_documents = documents_paris + documents_rio\n",
    "\n",
    "# Divide os documentos em chunks menores\n",
    "text_splitter = RecursiveCharacterTextSplitter(chunk_size=700, chunk_overlap=200)\n",
    "\n",
    "docs_split = text_splitter.split_documents(all_documents)"
   ]
  },
  {
   "cell_type": "code",
   "execution_count": 139,
   "id": "f3487aae",
   "metadata": {},
   "outputs": [],
   "source": [
    "# Cria o vectorstore no Pinecone\n",
    "vectorstore = PineconeVectorStore.from_documents(\n",
    "  documents=docs_split,\n",
    "  embedding=embeddings_model,\n",
    "  index_name=index_name\n",
    ")"
   ]
  },
  {
   "cell_type": "code",
   "execution_count": 140,
   "id": "2de95525",
   "metadata": {},
   "outputs": [],
   "source": [
    "# Cria o retriever para buscar os documentos mais similares\n",
    "retriever = vectorstore.as_retriever(search_type = \"similarity\", search_kwargs={\"k\": 6})"
   ]
  },
  {
   "cell_type": "markdown",
   "id": "148160fb",
   "metadata": {},
   "source": [
    "### 005 - Definição dos prompt templates"
   ]
  },
  {
   "cell_type": "markdown",
   "id": "052a6ec8",
   "metadata": {},
   "source": [
    "##### Guia geral para alguns templates"
   ]
  },
  {
   "cell_type": "code",
   "execution_count": 141,
   "id": "9cd88a1e",
   "metadata": {},
   "outputs": [],
   "source": [
    "guide_to_the_assistants = \"\"\"\n",
    "  Sua tarefa é responder à consulta do usuário baseando-se ÚNICA E EXCLUSIVAMENTE no contexto fornecido.\n",
    "  É estritamente proibido utilizar qualquer conhecimento externo ao que foi apresentado no contexto.\n",
    "  Não invente informações. Não complete detalhes que não estão no texto.\n",
    "  Se a resposta para a pergunta não puder ser encontrada no contexto fornecido, você deve responder exatamente:\n",
    "  \"Desculpe, não tenho informações sobre isso na minha base de conhecimento atual.\"\n",
    "  Não tente adivinhar ou inferir informações.\n",
    "\"\"\""
   ]
  },
  {
   "cell_type": "markdown",
   "id": "bb720d58",
   "metadata": {},
   "source": [
    "##### Prompt para categorizar a intenção do usuário"
   ]
  },
  {
   "cell_type": "code",
   "execution_count": 142,
   "id": "41999e40",
   "metadata": {},
   "outputs": [],
   "source": [
    "# Recebe a intenção do usuário e classifica em uma das categorias predefinidas\n",
    "prompt_template_category_definition = PromptTemplate.from_template(\n",
    "  \"\"\"\n",
    "    Classifique a pergunta do usuário em uma das seguintes categorias. Seja muito severo na classificação.\n",
    "    Escreva apenas uma categoria. Por exemplo, se a pergunta for sobre roteiro de viagem, responda apenas \"Roteiro de Viagem\".\n",
    "    Se a pergunta não se enquadrar em nenhuma das categorias, responda apenas \"Geral\".\n",
    "\n",
    "    Categorias:\n",
    "    - Roteiro de Viagem\n",
    "    - Logística de Transporte\n",
    "    - Informações sobre pontos turísticos\n",
    "    - Guia de tradução e idiomas\n",
    "    - Geral\n",
    "\n",
    "    Pergunta: {query}\n",
    "    Classificação:\n",
    "  \"\"\"\n",
    ")\n",
    "\n",
    "category_classification_chain = (prompt_template_category_definition | model | StrOutputParser())"
   ]
  },
  {
   "cell_type": "markdown",
   "id": "921c2b00",
   "metadata": {},
   "source": [
    "##### Prompt para extrair o perfil do usuário"
   ]
  },
  {
   "cell_type": "code",
   "execution_count": 143,
   "id": "22c7f5ba",
   "metadata": {},
   "outputs": [],
   "source": [
    "# Cadeia para extrair o perfil do usuário\n",
    "prompt_extract_profile = PromptTemplate.from_template(\n",
    "\"\"\"\n",
    "  Analise a consulta do usuário e identifique o perfil do turista.\n",
    "  Se não for possível identificar, retorne \"geral\".\n",
    "\n",
    "  Perfis possíveis: aventura, cultural, gastronômico, relaxante, família.\n",
    "\n",
    "  Consulta do usuário: {query}\n",
    "  Perfil:\n",
    "\"\"\"\n",
    ")\n",
    "\n",
    "profile_extraction_chain = prompt_extract_profile | model | StrOutputParser()"
   ]
  },
  {
   "cell_type": "markdown",
   "id": "1791d598",
   "metadata": {},
   "source": [
    "##### Prompt para responder perguntas sobre os destinos turísticos"
   ]
  },
  {
   "cell_type": "code",
   "execution_count": 144,
   "id": "f2b3510d",
   "metadata": {},
   "outputs": [],
   "source": [
    "prompt_template_travel_itinerary = PromptTemplate(\n",
    "  input_variables=[\"query\", \"profile\", \"context\"],\n",
    "  template=\"\"\"\n",
    "    Guia geral: %s\n",
    "\n",
    "    Você é um assistente especializado em fornecer roteiros de viagem personalizados.\n",
    "    Com base na consulta do usuário, crie um roteiro detalhado que inclua:\n",
    "    - Principais atrações a serem visitadas\n",
    "    - Eventos locais durante o período da viagem\n",
    "    - Sugestões que se alinhem ao perfil do turista.\n",
    "\n",
    "    Perfil do turista: {profile}\n",
    "    Consulta do usuário: {query}\n",
    "    Context: {context}\n",
    "  \"\"\" % guide_to_the_assistants\n",
    ")"
   ]
  },
  {
   "cell_type": "markdown",
   "id": "2f071ede",
   "metadata": {},
   "source": [
    "##### Prompt para logisticas de transporte"
   ]
  },
  {
   "cell_type": "code",
   "execution_count": 145,
   "id": "a3a21faf",
   "metadata": {},
   "outputs": [],
   "source": [
    "prompt_template_transport_logistics = PromptTemplate(\n",
    "  input_variables=[\"query\", \"context\"],\n",
    "  template=\"\"\"\n",
    "    Guia geral: %s\n",
    "\n",
    "    Você é um assistente especializado em fornecer informações sobre logística de transporte.\n",
    "    Com base na consulta do usuário, apresente um relatório logístico que inclua:\n",
    "    - Opções de transporte do local\n",
    "    - Sugestões de acomodação\n",
    "    - Dicas práticas para facilitar a viagem\n",
    "\n",
    "    Consulta do usuário: {query}\n",
    "    Context: {context}\n",
    "\n",
    "  \"\"\" % guide_to_the_assistants\n",
    ")"
   ]
  },
  {
   "cell_type": "markdown",
   "id": "275878b1",
   "metadata": {},
   "source": [
    "##### Prompt para responder perguntas sobre informações locais"
   ]
  },
  {
   "cell_type": "code",
   "execution_count": 146,
   "id": "90c872e5",
   "metadata": {},
   "outputs": [],
   "source": [
    "prompt_template_local_information = PromptTemplate(\n",
    "  input_variables=[\"query\", \"context\"],\n",
    "  template=\"\"\"\n",
    "    Guia geral: %s\n",
    "\n",
    "    Você é um assistente especializado em fornecer informações locais detalhadas.\n",
    "    Com base na consulta do usuário, forneça informações específicas sobre:\n",
    "    - Pontos turísticos\n",
    "    - Restaurantes recomendados\n",
    "    - Horários de funcionamento e outras informações relevantes\n",
    "\n",
    "    Consulta do usuário: {query}\n",
    "    Context: {context}\n",
    "    \"\"\" % guide_to_the_assistants\n",
    ")\n",
    "\n",
    "rag_chain = (\n",
    "  {\"context\": retriever, \"query\": RunnablePassthrough()}\n",
    "  | prompt_template_local_information\n",
    "  | model\n",
    "  | StrOutputParser()\n",
    ")"
   ]
  },
  {
   "cell_type": "markdown",
   "id": "58895603",
   "metadata": {},
   "source": [
    "##### Prompt para responder perguntas sobre tradução de frases"
   ]
  },
  {
   "cell_type": "code",
   "execution_count": 147,
   "id": "9d1d2aa5",
   "metadata": {},
   "outputs": [],
   "source": [
    "prompt_template_translation_guide = PromptTemplate(\n",
    "  input_variables=[\"query\"],\n",
    "  template= \"\"\"\n",
    "    Você é um assistente especializado em fornecer guias de tradução para viajantes.\n",
    "    Com base na consulta do usuário, crie um guia de tradução que inclua:\n",
    "    - Frases úteis no idioma local\n",
    "    - Dicas culturais para facilitar a comunicação\n",
    "\n",
    "    Consulta do usuário: {query}\n",
    "    \"\"\"\n",
    ")"
   ]
  },
  {
   "cell_type": "markdown",
   "id": "13066fc7",
   "metadata": {},
   "source": [
    "##### Prompt para responder perguntas sobre informações gerais"
   ]
  },
  {
   "cell_type": "code",
   "execution_count": 148,
   "id": "20c8f586",
   "metadata": {},
   "outputs": [],
   "source": [
    "prompt_template_general = PromptTemplate(\n",
    "  input_variables=[\"query\"],\n",
    "  template=\"\"\"\n",
    "    Guia geral: %s\n",
    "\n",
    "    Você é um assistente de informações gerais.\n",
    "    Se a consulta do usuário não se enquadrar nas categorias de roteiro de viagem,\n",
    "    logística de transporte, informações locais ou guia de tradução,\n",
    "    responda com uma mensagem educada informando que a consulta não pode ser atendida.\n",
    "    E sugira tipos de perguntas que você pode responder.\n",
    "\n",
    "    Consulta do usuário: {query}\n",
    "    \"\"\" % (guide_to_the_assistants)\n",
    ")"
   ]
  },
  {
   "cell_type": "markdown",
   "id": "abe60ecb",
   "metadata": {},
   "source": [
    "### 006 - Definição das chains"
   ]
  },
  {
   "cell_type": "code",
   "execution_count": 149,
   "id": "194ebcba",
   "metadata": {},
   "outputs": [],
   "source": [
    "# Define chain para itinerário de viagem\n",
    "travel_itinerary_chain = {\n",
    "    \"profile\": itemgetter(\"query\") | profile_extraction_chain,\n",
    "    \"context\": itemgetter(\"query\") | retriever,\n",
    "    \"query\": itemgetter(\"query\")\n",
    "} | prompt_template_travel_itinerary\n",
    "\n",
    "# Define chain para logística de transporte\n",
    "transport_logistics_chain = {\n",
    "    \"context\": itemgetter(\"query\") | retriever,\n",
    "    \"query\": itemgetter(\"query\")\n",
    "} | prompt_template_transport_logistics\n",
    "\n",
    "# Define chain para informações locais\n",
    "local_information_chain = {\n",
    "    \"context\": itemgetter(\"query\") | retriever,\n",
    "    \"query\": itemgetter(\"query\")\n",
    "} | prompt_template_local_information\n",
    "\n",
    "# Define a cadeia completa com branching\n",
    "full_chain = RunnableBranch(\n",
    "    (\n",
    "        # Se a categoria for \"Roteiro de Viagem\", use a cadeia de itinerário de viagem\n",
    "        lambda x: \"roteiro de viagem\" in x[\"category\"].lower(),\n",
    "        travel_itinerary_chain\n",
    "    ),\n",
    "    (\n",
    "        # Se a categoria for \"Logística de Transporte\", use a cadeia de logística de transporte\n",
    "        lambda x: \"logística de transporte\" in x[\"category\"].lower(),\n",
    "        transport_logistics_chain\n",
    "    ),\n",
    "    (\n",
    "        # Se a categoria for \"Informações sobre pontos turísticos\", use a cadeia de informações locais\n",
    "        lambda x: \"informações sobre pontos turísticos\" in x[\"category\"].lower(),\n",
    "        local_information_chain\n",
    "    ),\n",
    "    (\n",
    "        # Se a categoria for \"Guia de tradução e idiomas\", use a cadeia de guia de tradução\n",
    "         lambda x: \"guia de tradução\" in x[\"category\"].lower(),\n",
    "         itemgetter(\"query\") | prompt_template_translation_guide\n",
    "    ),\n",
    "    # Cadeia padrão para consultas gerais ou não classificadas\n",
    "    itemgetter(\"query\") | prompt_template_general\n",
    ")\n",
    "\n",
    "# Cadeia final que inclui a classificação de categoria e a cadeia completa\n",
    "# 1. Descobre a categoria da consulta do usuário\n",
    "# 2. Roteia para a cadeia específica baseada na categoria (full_chain)\n",
    "# 3. O resultado é passado para o modelo para gerar a resposta final\n",
    "# 4. A resposta final é formatada como string\n",
    "final_orchestrator_chain = {\n",
    "    \"category\": category_classification_chain,\n",
    "    \"query\": itemgetter(\"query\")\n",
    "} | full_chain| model | StrOutputParser()"
   ]
  },
  {
   "cell_type": "markdown",
   "id": "ec1f169c",
   "metadata": {},
   "source": [
    "### 007 - Execução de exemplos"
   ]
  },
  {
   "cell_type": "code",
   "execution_count": 155,
   "id": "2b5e232b",
   "metadata": {},
   "outputs": [
    {
     "name": "stdout",
     "output_type": "stream",
     "text": [
      "## Roteiro de Viagem Gastronômica em Paris\n",
      "\n",
      "### Dia 1\n",
      "\n",
      "1. **Café da Manhã:** Inicie o dia com um café da manhã típico francês em um café tradicional como Café de Flore ou Les Deux Magots, localizados no 6º arrondissement.\n",
      "\n",
      "2. **Visita ao Mercado:** Dirija-se ao **Marché aux Enfants Rouges**, um dos mercados mais antigos de Paris, localizado no 3º arrondissement. Explore as barracas de queijos, charcutarias e padarias.\n",
      "\n",
      "3. **Almoço:** Desfrute de um almoço gastronômico em **Le Comptoir du Relais**, um restaurante aconchegante no 6º arrondissement, conhecido por sua cozinha francesa clássica.\n",
      "\n",
      "4. **Tarde:** Visite o **Museu do Louvre** (1º arrondissement), não apenas para ver obras de arte famosas, mas também para explorar a arquitetura histórica do museu.\n",
      "\n",
      "5. **Jantar:** Para o jantar, reserve uma mesa em **Septime**, um restaurante com estrela Michelin no 11º arrondissement, conhecido por sua experiência gastronômica inovadora.\n",
      "\n",
      "### Dia 2\n",
      "\n",
      "1. **Café da Manhã:** Comece o dia com um croissant fresco em uma padaria local como **Pierre Hermé** ou **Gérard Mulot**.\n",
      "\n",
      "2. **Visita ao Bairro:** Explore o **Le Marais** (4º arrondissement), um bairro histórico com uma vibe boêmia. Visite lojas de artesanato e boutiques de culinária.\n",
      "\n",
      "3. **Almoço:** Almoce em **Breizh Café**, famoso por seus crepes deliciosos.\n",
      "\n",
      "4. **Tarde:** Visite o **Centre Pompidou** (4º arrondissement) para ver arte moderna e contemporânea.\n",
      "\n",
      "5. **Jantar:** Desfrute de um jantar com vista para a Torre Eiffel em **Le Jules Verne**, localizado no segundo andar da Torre Eiffel, no 7º arrondissement.\n",
      "\n",
      "### Dia 3\n",
      "\n",
      "1. **Café da Manhã:** Faça um passeio ao longo do **Rio Sena** e pare para um café da manhã em um quiosque flutuante ou em um café com vista para o rio.\n",
      "\n",
      "2. **Visita à Torre Eiffel:** Suba a **Torre Eiffel** (7º arrondissement) para uma vista panorâmica da cidade.\n",
      "\n",
      "3. **Almoço:** Almoce em **Le Grand Vefour**, um restaurante histórico localizado no 1º arrondissement, conhecido por sua cozinha francesa refinada.\n",
      "\n",
      "4. **Tarde:** Explore as **Lojas de Departamentos** como Galeries Lafayette ou Le Bon Marché para uma experiência de compras gourmet.\n",
      "\n",
      "5. **Jantar de Despedida:** Para o jantar de despedida, escolha **L'Atelier de Joël Robuchon**, um restaurante com estrela Michelin no 11º arrondissement, oferecendo uma experiência gastronômica interativa.\n",
      "\n",
      "### Sugestões Adicionais\n",
      "\n",
      "- **Eventos Locais:** Verifique os eventos gastronômicos locais durante sua estadia, como festivais de comida ou workshops culinários.\n",
      "- **Transporte:** Utilize o metrô para se locomover pela cidade. Paris tem um sistema de transporte eficiente e abrangente.\n",
      "\n",
      "Este roteiro combina experiências gastronômicas excepcionais com visitas a pontos turísticos emblemáticos de Paris, proporcionando uma viagem inesquecível para o turista gastronômico.\n"
     ]
    }
   ],
   "source": [
    "# Exemplo 1: Roteiro de Viagem\n",
    "query = \"Estou planejando uma viagem gastronomica de 3 dias em Paris. Quais atrações você recomenda?\"\n",
    "final_response = final_orchestrator_chain.invoke({\"query\": query})\n",
    "print(final_response)"
   ]
  },
  {
   "cell_type": "code",
   "execution_count": 156,
   "id": "86f68cca",
   "metadata": {},
   "outputs": [
    {
     "name": "stdout",
     "output_type": "stream",
     "text": [
      "### Relatório Logístico: Transporte do Aeroporto Charles de Gaulle para o Centro de Paris\n",
      "\n",
      "#### Opções de Transporte\n",
      "\n",
      "1. **Trem RER B:** \n",
      "   - O trem RER B é uma das opções mais rápidas e eficientes para se deslocar do Aeroporto Charles de Gaulle para o centro de Paris.\n",
      "   - O tempo de viagem varia de acordo com o destino no centro, mas geralmente leva entre 35 a 45 minutos até a estação central como Gare du Nord ou Châtelet - Les Halles.\n",
      "   - Os trens operam frequentemente, com intervalos de aproximadamente 10 a 15 minutos, dependendo da hora do dia.\n",
      "\n",
      "2. **Metrô (futuro):** \n",
      "   - Em 2025, novas linhas de metrô automatizadas estarão disponíveis, reduzindo ainda mais o tempo de viagem entre o Aeroporto Charles de Gaulle e o centro de Paris.\n",
      "   - Embora os detalhes específicos sobre essas novas linhas não estejam disponíveis no contexto atual, elas prometem melhorar a conectividade.\n",
      "\n",
      "3. **Táxi ou Serviços de Transporte Privado:** \n",
      "   - Embora não mencionado explicitamente no contexto fornecido, é comum que aeroportos tenham serviços de táxi ou transporte privado disponíveis.\n",
      "\n",
      "#### Sugestões de Acomodação\n",
      "\n",
      "O contexto fornecido não inclui informações específicas sobre acomodações. No entanto, é recomendável considerar hotéis ou alojamentos próximos às estações de metrô ou RER para facilitar o deslocamento.\n",
      "\n",
      "#### Dicas Práticas\n",
      "\n",
      "1. **Compre um Passe Navigo ou Carnê:** \n",
      "   - Para estadias mais longas, um passe Navigo pode ser econômico e conveniente, permitindo viagens ilimitadas dentro de certas zonas por uma semana.\n",
      "   - Um carnê de 10 bilhetes também pode ser uma boa opção para quem planeja usar o transporte público várias vezes.\n",
      "\n",
      "2. **Planeje com Antecedência:** \n",
      "   - Verifique os horários dos trens RER B e planeje sua viagem de acordo para evitar longas esperas.\n",
      "   - Em 2025, fique atento às atualizações nos serviços de transporte público, como as novas linhas de metrô automatizadas.\n",
      "\n",
      "3. **Evite Horários de Pico:** \n",
      "   - Se possível, tente evitar viajar durante os horários de pico (geralmente manhã e tarde) para minimizar atrasos e aglomerações.\n",
      "\n",
      "Desculpe, não tenho informações sobre acomodações específicas ou outras opções de transporte além do RER B e futuras linhas de metrô automatizadas na minha base de conhecimento atual.\n"
     ]
    }
   ],
   "source": [
    "# Exemplo 2: Logística de Transporte\n",
    "query = \"Quais são as melhores opções de transporte do aeroporto Charles de Gaulle para o centro de Paris?\"\n",
    "final_response = final_orchestrator_chain.invoke({\"query\": query})\n",
    "print(final_response)"
   ]
  },
  {
   "cell_type": "code",
   "execution_count": 157,
   "id": "16f40553",
   "metadata": {},
   "outputs": [
    {
     "name": "stdout",
     "output_type": "stream",
     "text": [
      "Os principais pontos turísticos de Paris incluem:\n",
      "\n",
      "1. **Torre Eiffel**: O monumento mais emblemático de Paris, construído por Gustave Eiffel para a Exposição Universal de 1889. Oferece vistas incríveis da cidade a partir de seus três níveis.\n",
      "   - Localização: Champ de Mars, 7º arrondissement.\n",
      "   - Como Chegar: Metrô (estação Bir-Hakeim, linha 6, ou Trocadéro, linhas 6 e 9 para a melhor vista).\n",
      "   - Horário de Funcionamento: Geralmente das 9h30 às 23h.\n",
      "\n",
      "2. **Arco do Triunfo**: Monumento histórico que homenageia os soldados franceses, com vistas do topo dos Champs-Élysées e da cidade.\n",
      "   - Localização: Place Charles de Gaulle, 8º arrondissement.\n",
      "   - Como Chegar: Metrô (estação Charles de Gaulle - Étoile, linhas 1, 2 e 6).\n",
      "\n",
      "3. **Museu d'Orsay**: Museu em uma antiga estação de trem, focado em arte impressionista (Monet, Van Gogh).\n",
      "   - Localização: 7º arrondissement.\n",
      "   - Como Chegar: Metrô (estação Musée d'Orsay, RER C).\n",
      "\n",
      "Além disso, Paris é conhecida por seus monumentos icônicos, museus de classe mundial, charmosos cafés e alta costura. O rio Sena corta a cidade, e suas margens são repletas de pontos de interesse. A Catedral de Notre-Dame, após restauração, também é um ponto de interesse relevante, embora detalhes específicos sobre ela não tenham sido fornecidos nos trechos disponíveis.\n",
      "\n",
      "Para se locomover por Paris, o metrô é a forma mais eficiente, com um bilhete unitário custando €2,50 em 2025. O RER e os ônibus também são opções viáveis.\n"
     ]
    }
   ],
   "source": [
    "# Exemplo 3: Informações sobre pontos turísticos\n",
    "query = \"Quais são os pontos turisticos de paris?\"\n",
    "final_response = final_orchestrator_chain.invoke({\"query\": query})\n",
    "print(final_response)"
   ]
  },
  {
   "cell_type": "code",
   "execution_count": 153,
   "id": "1984ae8a",
   "metadata": {},
   "outputs": [
    {
     "name": "stdout",
     "output_type": "stream",
     "text": [
      "## Guia de Tradução para Falantes de Português em Países Francófonos\n",
      "\n",
      "### Introdução\n",
      "\n",
      "Viajar para um país onde se fala francês pode ser uma experiência enriquecedora, mas também pode apresentar desafios, especialmente quando se trata de comunicação. Este guia foi criado para ajudar a superar essas barreiras, fornecendo frases úteis e dicas culturais para facilitar sua estadia.\n",
      "\n",
      "### Frases Úteis em Francês\n",
      "\n",
      "#### Localizando o Banheiro\n",
      "\n",
      "- **Onde fica o banheiro?** - \"Où sont les toilettes?\"\n",
      "- **Banheiro** - \"Toilettes\" ou \"WC\" (pronunciado como \"vê-cê\")\n",
      "- **Onde posso encontrar um banheiro?** - \"Où puis-je trouver des toilettes?\"\n",
      "\n",
      "#### Outras Frases Úteis\n",
      "\n",
      "- **Obrigado/Obrigada** - \"Merci\"\n",
      "- **Por favor** - \"S'il vous plaît\" (formal) ou \"S'il te plaît\" (informal)\n",
      "- **Desculpe/Com licença** - \"Excusez-moi\" (formal) ou \"Désolé(e)\" (informal)\n",
      "- **Sim/Não** - \"Oui/Non\"\n",
      "- **Entendo/Não entendo** - \"Je comprends/Je ne comprends pas\"\n",
      "- **Fala inglês?** - \"Parlez-vous anglais?\"\n",
      "\n",
      "### Dicas Culturais\n",
      "\n",
      "1. **Saudações**: Os franceses valorizam as saudações formais. Ao entrar em uma loja ou abordar alguém, é comum dizer \"Bonjour\" (bom dia) até o início da noite, quando se muda para \"Bonsoir\" (boa noite).\n",
      "\n",
      "2. **Etiqueta**: Ser polido é fundamental. Use \"S'il vous plaît\" e \"Merci\" frequentemente. Ao receber algo ou um serviço, um simples \"Merci\" é considerado educado.\n",
      "\n",
      "3. **Comunicação Não Verbal**: Os franceses tendem a ser mais reservados em relação ao espaço pessoal. Manter uma distância respeitosa é aconselhável.\n",
      "\n",
      "4. **Aprender Algumas Palavras**: Mostrar esforço para falar francês é apreciado. Mesmo que você só saiba algumas palavras, isso pode fazer uma grande diferença na receptividade das pessoas.\n",
      "\n",
      "5. **Respeite as Diferenças Culturais**: Esteja preparado para diferenças culturais, especialmente em relação à comida, horários de funcionamento de estabelecimentos e costumes locais.\n",
      "\n",
      "### Conclusão\n",
      "\n",
      "Saber algumas frases básicas em francês e estar ciente das nuances culturais pode transformar sua viagem. Lembre-se de que a comunicação eficaz vai além das palavras; inclui respeito e compreensão pela cultura local. Com este guia, você estará mais preparado para explorar países francófonos com confiança.\n"
     ]
    }
   ],
   "source": [
    "# Exemplo 4: Guia de tradução e idiomas\n",
    "query = \"Como digo 'onde fica o banheiro?' em francês?\"\n",
    "final_response = final_orchestrator_chain.invoke({\"query\": query})\n",
    "print(final_response)"
   ]
  },
  {
   "cell_type": "code",
   "execution_count": 158,
   "id": "c1a56b91",
   "metadata": {},
   "outputs": [
    {
     "name": "stdout",
     "output_type": "stream",
     "text": [
      "Desculpe, mas não tenho informações sobre a capital da França na minha base de conhecimento atual.\n"
     ]
    }
   ],
   "source": [
    "# Exemplo 5: Geral\n",
    "query = \"Qual é a capital da França?\"\n",
    "final_response = final_orchestrator_chain.invoke({\"query\": query})\n",
    "print(final_response)"
   ]
  }
 ],
 "metadata": {
  "kernelspec": {
   "display_name": "sistema_turismo_langchain",
   "language": "python",
   "name": "python3"
  },
  "language_info": {
   "codemirror_mode": {
    "name": "ipython",
    "version": 3
   },
   "file_extension": ".py",
   "mimetype": "text/x-python",
   "name": "python",
   "nbconvert_exporter": "python",
   "pygments_lexer": "ipython3",
   "version": "3.13.7"
  }
 },
 "nbformat": 4,
 "nbformat_minor": 5
}
