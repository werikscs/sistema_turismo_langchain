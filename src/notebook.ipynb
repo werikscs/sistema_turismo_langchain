{
 "cells": [
  {
   "cell_type": "markdown",
   "id": "7d07c79f",
   "metadata": {},
   "source": [
    "### 001 - Carregamento das variáveis de ambiente"
   ]
  },
  {
   "cell_type": "code",
   "execution_count": 3,
   "id": "202c4c05",
   "metadata": {},
   "outputs": [
    {
     "data": {
      "text/plain": [
       "True"
      ]
     },
     "execution_count": 3,
     "metadata": {},
     "output_type": "execute_result"
    }
   ],
   "source": [
    "from dotenv import find_dotenv, load_dotenv\n",
    "load_dotenv(find_dotenv())"
   ]
  },
  {
   "cell_type": "markdown",
   "id": "1b61482b",
   "metadata": {},
   "source": [
    "### 002 - Importação das bibliotecas necessárias"
   ]
  },
  {
   "cell_type": "code",
   "execution_count": 4,
   "id": "6c9d411d",
   "metadata": {},
   "outputs": [
    {
     "name": "stderr",
     "output_type": "stream",
     "text": [
      "/home/weriks/anaconda3/envs/sistema_turismo_langchain/lib/python3.13/site-packages/langchain_pinecone/__init__.py:3: LangChainDeprecationWarning: As of langchain-core 0.3.0, LangChain uses pydantic v2 internally. The langchain_core.pydantic_v1 module was a compatibility shim for pydantic v1, and should no longer be used. Please update the code to import from Pydantic directly.\n",
      "\n",
      "For example, replace imports like: `from langchain_core.pydantic_v1 import BaseModel`\n",
      "with: `from pydantic import BaseModel`\n",
      "or the v1 compatibility namespace if you are working in a code base that has not been fully upgraded to pydantic 2 yet. \tfrom pydantic.v1 import BaseModel\n",
      "\n",
      "  from langchain_pinecone.vectorstores import Pinecone, PineconeVectorStore\n"
     ]
    }
   ],
   "source": [
    "from langchain_community.embeddings import HuggingFaceEmbeddings\n",
    "from langchain_groq import ChatGroq\n",
    "from langchain.prompts import PromptTemplate\n",
    "from langchain_core.output_parsers import StrOutputParser\n",
    "from langchain.document_loaders import TextLoader\n",
    "from langchain.text_splitter import RecursiveCharacterTextSplitter\n",
    "from langchain_pinecone import PineconeVectorStore\n",
    "from langchain_core.runnables import RunnablePassthrough, RunnableBranch\n",
    "from pinecone import Pinecone, ServerlessSpec\n",
    "from operator import itemgetter"
   ]
  },
  {
   "cell_type": "markdown",
   "id": "63657630",
   "metadata": {},
   "source": [
    "### 003 - Definição dos modelos de linguagem"
   ]
  },
  {
   "cell_type": "code",
   "execution_count": 5,
   "id": "19a36fb7",
   "metadata": {},
   "outputs": [],
   "source": [
    "# model = ChatGroq(model='llama-3.1-8b-instant',temperature=0)\n",
    "model = ChatGroq(model='meta-llama/llama-4-maverick-17b-128e-instruct',temperature=0)"
   ]
  },
  {
   "cell_type": "code",
   "execution_count": 6,
   "id": "5cf39107",
   "metadata": {},
   "outputs": [
    {
     "name": "stderr",
     "output_type": "stream",
     "text": [
      "/tmp/ipykernel_1096749/1048288091.py:2: LangChainDeprecationWarning: The class `HuggingFaceEmbeddings` was deprecated in LangChain 0.2.2 and will be removed in 1.0. An updated version of the class exists in the :class:`~langchain-huggingface package and should be used instead. To use it run `pip install -U :class:`~langchain-huggingface` and import as `from :class:`~langchain_huggingface import HuggingFaceEmbeddings``.\n",
      "  embeddings_model = HuggingFaceEmbeddings(model_name=model_name)\n"
     ]
    }
   ],
   "source": [
    "model_name = \"sentence-transformers/all-MiniLM-L6-v2\"\n",
    "embeddings_model = HuggingFaceEmbeddings(model_name=model_name)"
   ]
  },
  {
   "cell_type": "markdown",
   "id": "baec91fe",
   "metadata": {},
   "source": [
    "### 004 - Configuração do Pinecone e preenchimento do index"
   ]
  },
  {
   "cell_type": "code",
   "execution_count": 7,
   "id": "90714abb",
   "metadata": {},
   "outputs": [],
   "source": [
    "pinecone_client = Pinecone()\n",
    "\n",
    "# Define o index name do Pinecone\n",
    "index_name = \"sistema-turismo-langchain\"\n",
    "index_name_exists = False\n",
    "\n",
    "# Verifica se o index name já existe\n",
    "for index in pinecone_client.list_indexes():\n",
    "  index_name = index['name']\n",
    "\n",
    "  if index_name == \"sistema-turismo-langchain\":\n",
    "    index_name_exists = True\n",
    "    break\n",
    "\n",
    "# Cria o index name caso não exista\n",
    "if not index_name_exists:\n",
    "  pinecone_client.create_index(\n",
    "    name=index_name,\n",
    "    metric=\"cosine\",\n",
    "    dimension=384,\n",
    "    spec=ServerlessSpec(cloud=\"aws\", region=\"us-east-1\")\n",
    "  )"
   ]
  },
  {
   "cell_type": "code",
   "execution_count": 8,
   "id": "3aaf2aa3",
   "metadata": {},
   "outputs": [],
   "source": [
    "base_conhecimento_paris = \"./base_conhecimento/paris.txt\"\n",
    "base_conhecimento_rio_de_janeiro = \"./base_conhecimento/rio_de_janeiro.txt\"\n",
    "\n",
    "# Carrega os documentos de texto\n",
    "loader_paris = TextLoader(base_conhecimento_paris)\n",
    "loader_rio = TextLoader(base_conhecimento_rio_de_janeiro)\n",
    "\n",
    "documents_paris = loader_paris.load()\n",
    "documents_rio = loader_rio.load()\n",
    "\n",
    "# Combina os documentos em uma única lista\n",
    "all_documents = documents_paris + documents_rio\n",
    "\n",
    "# Divide os documentos em chunks menores\n",
    "text_splitter = RecursiveCharacterTextSplitter(chunk_size=700, chunk_overlap=200)\n",
    "\n",
    "docs_split = text_splitter.split_documents(all_documents)"
   ]
  },
  {
   "cell_type": "code",
   "execution_count": 9,
   "id": "f3487aae",
   "metadata": {},
   "outputs": [],
   "source": [
    "# Cria o vectorstore no Pinecone\n",
    "vectorstore = PineconeVectorStore.from_documents(\n",
    "  documents=docs_split,\n",
    "  embedding=embeddings_model,\n",
    "  index_name=index_name\n",
    ")"
   ]
  },
  {
   "cell_type": "code",
   "execution_count": 10,
   "id": "2de95525",
   "metadata": {},
   "outputs": [],
   "source": [
    "# Cria o retriever para buscar os documentos mais similares\n",
    "retriever = vectorstore.as_retriever(search_type = \"similarity\", search_kwargs={\"k\": 6})"
   ]
  },
  {
   "cell_type": "markdown",
   "id": "148160fb",
   "metadata": {},
   "source": [
    "### 005 - Definição dos prompt templates"
   ]
  },
  {
   "cell_type": "markdown",
   "id": "052a6ec8",
   "metadata": {},
   "source": [
    "##### Guia geral para alguns templates"
   ]
  },
  {
   "cell_type": "code",
   "execution_count": 11,
   "id": "9cd88a1e",
   "metadata": {},
   "outputs": [],
   "source": [
    "guide_to_the_assistants = \"\"\"\n",
    "  Sua tarefa é responder à consulta do usuário baseando-se ÚNICA E EXCLUSIVAMENTE no contexto fornecido.\n",
    "  É estritamente proibido utilizar qualquer conhecimento externo ao que foi apresentado no contexto.\n",
    "  Não invente informações. Não complete detalhes que não estão no texto.\n",
    "  Se a resposta para a pergunta não puder ser encontrada no contexto fornecido, você deve responder exatamente:\n",
    "  \"Desculpe, não tenho informações sobre isso na minha base de conhecimento atual.\"\n",
    "  Não tente adivinhar ou inferir informações.\n",
    "\"\"\""
   ]
  },
  {
   "cell_type": "markdown",
   "id": "bb720d58",
   "metadata": {},
   "source": [
    "##### Prompt para categorizar a intenção do usuário"
   ]
  },
  {
   "cell_type": "code",
   "execution_count": 12,
   "id": "41999e40",
   "metadata": {},
   "outputs": [],
   "source": [
    "# Recebe a intenção do usuário e classifica em uma das categorias predefinidas\n",
    "prompt_template_category_definition = PromptTemplate.from_template(\n",
    "  \"\"\"\n",
    "    Classifique a pergunta do usuário em uma das seguintes categorias. Seja muito severo na classificação.\n",
    "    Escreva apenas uma categoria. Por exemplo, se a pergunta for sobre roteiro de viagem, responda apenas \"Roteiro de Viagem\".\n",
    "    Se a pergunta não se enquadrar em nenhuma das categorias, responda apenas \"Geral\".\n",
    "\n",
    "    Categorias:\n",
    "    - Roteiro de Viagem\n",
    "    - Logística de Transporte\n",
    "    - Informações sobre pontos turísticos\n",
    "    - Guia de tradução e idiomas\n",
    "    - Geral\n",
    "\n",
    "    Pergunta: {query}\n",
    "    Classificação:\n",
    "  \"\"\"\n",
    ")\n",
    "\n",
    "category_classification_chain = (prompt_template_category_definition | model | StrOutputParser())"
   ]
  },
  {
   "cell_type": "markdown",
   "id": "921c2b00",
   "metadata": {},
   "source": [
    "##### Prompt para extrair o perfil do usuário"
   ]
  },
  {
   "cell_type": "code",
   "execution_count": 13,
   "id": "22c7f5ba",
   "metadata": {},
   "outputs": [],
   "source": [
    "# Cadeia para extrair o perfil do usuário\n",
    "prompt_extract_profile = PromptTemplate.from_template(\n",
    "\"\"\"\n",
    "  Analise a consulta do usuário e identifique o perfil do turista.\n",
    "  Se não for possível identificar, retorne \"geral\".\n",
    "\n",
    "  Perfis possíveis: aventura, cultural, gastronômico, relaxante, família.\n",
    "\n",
    "  Consulta do usuário: {query}\n",
    "  Perfil:\n",
    "\"\"\"\n",
    ")\n",
    "\n",
    "profile_extraction_chain = prompt_extract_profile | model | StrOutputParser()"
   ]
  },
  {
   "cell_type": "markdown",
   "id": "1791d598",
   "metadata": {},
   "source": [
    "##### Prompt para responder perguntas sobre os destinos turísticos"
   ]
  },
  {
   "cell_type": "code",
   "execution_count": 14,
   "id": "f2b3510d",
   "metadata": {},
   "outputs": [],
   "source": [
    "prompt_template_travel_itinerary = PromptTemplate(\n",
    "  input_variables=[\"query\", \"profile\", \"context\"],\n",
    "  template=\"\"\"\n",
    "    Guia geral: %s\n",
    "\n",
    "    Você é um assistente especializado em fornecer roteiros de viagem personalizados.\n",
    "    Com base na consulta do usuário, crie um roteiro detalhado que inclua:\n",
    "    - Principais atrações a serem visitadas\n",
    "    - Eventos locais durante o período da viagem\n",
    "    - Sugestões que se alinhem ao perfil do turista.\n",
    "\n",
    "    Perfil do turista: {profile}\n",
    "    Consulta do usuário: {query}\n",
    "    Context: {context}\n",
    "  \"\"\" % guide_to_the_assistants\n",
    ")"
   ]
  },
  {
   "cell_type": "markdown",
   "id": "2f071ede",
   "metadata": {},
   "source": [
    "##### Prompt para logisticas de transporte"
   ]
  },
  {
   "cell_type": "code",
   "execution_count": 15,
   "id": "a3a21faf",
   "metadata": {},
   "outputs": [],
   "source": [
    "prompt_template_transport_logistics = PromptTemplate(\n",
    "  input_variables=[\"query\", \"context\"],\n",
    "  template=\"\"\"\n",
    "    Guia geral: %s\n",
    "\n",
    "    Você é um assistente especializado em fornecer informações sobre logística de transporte.\n",
    "    Com base na consulta do usuário, apresente um relatório logístico que inclua:\n",
    "    - Opções de transporte do local\n",
    "    - Sugestões de acomodação\n",
    "    - Dicas práticas para facilitar a viagem\n",
    "\n",
    "    Consulta do usuário: {query}\n",
    "    Context: {context}\n",
    "\n",
    "  \"\"\" % guide_to_the_assistants\n",
    ")"
   ]
  },
  {
   "cell_type": "markdown",
   "id": "275878b1",
   "metadata": {},
   "source": [
    "##### Prompt para responder perguntas sobre informações locais"
   ]
  },
  {
   "cell_type": "code",
   "execution_count": 16,
   "id": "90c872e5",
   "metadata": {},
   "outputs": [],
   "source": [
    "prompt_template_local_information = PromptTemplate(\n",
    "  input_variables=[\"query\", \"context\"],\n",
    "  template=\"\"\"\n",
    "    Guia geral: %s\n",
    "\n",
    "    Você é um assistente especializado em fornecer informações locais detalhadas.\n",
    "    Com base na consulta do usuário, forneça informações específicas sobre:\n",
    "    - Pontos turísticos\n",
    "    - Restaurantes recomendados\n",
    "    - Horários de funcionamento e outras informações relevantes\n",
    "\n",
    "    Consulta do usuário: {query}\n",
    "    Context: {context}\n",
    "    \"\"\" % guide_to_the_assistants\n",
    ")"
   ]
  },
  {
   "cell_type": "markdown",
   "id": "58895603",
   "metadata": {},
   "source": [
    "##### Prompt para responder perguntas sobre tradução de frases"
   ]
  },
  {
   "cell_type": "code",
   "execution_count": 17,
   "id": "9d1d2aa5",
   "metadata": {},
   "outputs": [],
   "source": [
    "prompt_template_translation_guide = PromptTemplate(\n",
    "  input_variables=[\"query\"],\n",
    "  template= \"\"\"\n",
    "    Você é um assistente especializado em fornecer guias de tradução para viajantes.\n",
    "    Com base na consulta do usuário, crie um guia de tradução que inclua:\n",
    "    - Frases úteis no idioma local\n",
    "    - Dicas culturais para facilitar a comunicação\n",
    "\n",
    "    Consulta do usuário: {query}\n",
    "    \"\"\"\n",
    ")"
   ]
  },
  {
   "cell_type": "markdown",
   "id": "13066fc7",
   "metadata": {},
   "source": [
    "##### Prompt para responder perguntas sobre informações gerais"
   ]
  },
  {
   "cell_type": "code",
   "execution_count": 18,
   "id": "20c8f586",
   "metadata": {},
   "outputs": [],
   "source": [
    "prompt_template_general = PromptTemplate(\n",
    "  input_variables=[\"query\"],\n",
    "  template=\"\"\"\n",
    "    Guia geral: %s\n",
    "\n",
    "    Você é um assistente de informações gerais.\n",
    "    Se a consulta do usuário não se enquadrar nas categorias de roteiro de viagem,\n",
    "    logística de transporte, informações locais ou guia de tradução,\n",
    "    responda com uma mensagem educada informando que a consulta não pode ser atendida.\n",
    "    E sugira tipos de perguntas que você pode responder.\n",
    "\n",
    "    Consulta do usuário: {query}\n",
    "    \"\"\" % (guide_to_the_assistants)\n",
    ")"
   ]
  },
  {
   "cell_type": "markdown",
   "id": "abe60ecb",
   "metadata": {},
   "source": [
    "### 006 - Definição das chains"
   ]
  },
  {
   "cell_type": "code",
   "execution_count": 19,
   "id": "194ebcba",
   "metadata": {},
   "outputs": [],
   "source": [
    "# Define chain para itinerário de viagem\n",
    "travel_itinerary_chain = {\n",
    "    \"profile\": itemgetter(\"query\") | profile_extraction_chain,\n",
    "    \"context\": itemgetter(\"query\") | retriever,\n",
    "    \"query\": itemgetter(\"query\")\n",
    "} | prompt_template_travel_itinerary\n",
    "\n",
    "# Define chain para logística de transporte\n",
    "transport_logistics_chain = {\n",
    "    \"context\": itemgetter(\"query\") | retriever,\n",
    "    \"query\": itemgetter(\"query\")\n",
    "} | prompt_template_transport_logistics\n",
    "\n",
    "# Define chain para informações locais\n",
    "local_information_chain = {\n",
    "    \"context\": itemgetter(\"query\") | retriever,\n",
    "    \"query\": itemgetter(\"query\")\n",
    "} | prompt_template_local_information\n",
    "\n",
    "# Define a cadeia completa com branching\n",
    "full_chain = RunnableBranch(\n",
    "    (\n",
    "        # Se a categoria for \"Roteiro de Viagem\", use a cadeia de itinerário de viagem\n",
    "        lambda x: \"roteiro de viagem\" in x[\"category\"].lower(),\n",
    "        travel_itinerary_chain\n",
    "    ),\n",
    "    (\n",
    "        # Se a categoria for \"Logística de Transporte\", use a cadeia de logística de transporte\n",
    "        lambda x: \"logística de transporte\" in x[\"category\"].lower(),\n",
    "        transport_logistics_chain\n",
    "    ),\n",
    "    (\n",
    "        # Se a categoria for \"Informações sobre pontos turísticos\", use a cadeia de informações locais\n",
    "        lambda x: \"informações sobre pontos turísticos\" in x[\"category\"].lower(),\n",
    "        local_information_chain\n",
    "    ),\n",
    "    (\n",
    "        # Se a categoria for \"Guia de tradução e idiomas\", use a cadeia de guia de tradução\n",
    "         lambda x: \"guia de tradução\" in x[\"category\"].lower(),\n",
    "         itemgetter(\"query\") | prompt_template_translation_guide\n",
    "    ),\n",
    "    # Cadeia padrão para consultas gerais ou não classificadas\n",
    "    itemgetter(\"query\") | prompt_template_general\n",
    ")\n",
    "\n",
    "# Cadeia final que inclui a classificação de categoria e a cadeia completa\n",
    "# 1. Descobre a categoria da consulta do usuário\n",
    "# 2. Roteia para a cadeia específica baseada na categoria (full_chain)\n",
    "# 3. O resultado é passado para o modelo para gerar a resposta final\n",
    "# 4. A resposta final é formatada como string\n",
    "final_orchestrator_chain = {\n",
    "    \"category\": category_classification_chain,\n",
    "    \"query\": itemgetter(\"query\")\n",
    "} | full_chain| model | StrOutputParser()"
   ]
  },
  {
   "cell_type": "markdown",
   "id": "ec1f169c",
   "metadata": {},
   "source": [
    "### 007 - Execução de exemplos"
   ]
  },
  {
   "cell_type": "code",
   "execution_count": 20,
   "id": "2b5e232b",
   "metadata": {},
   "outputs": [
    {
     "name": "stdout",
     "output_type": "stream",
     "text": [
      "Claro, posso ajudar a criar um roteiro de viagem gastronômica para Paris! Embora o contexto fornecido não tenha informações específicas sobre atrações gastronômicas, posso sugerir alguns pontos turísticos e bairros que podem ser interessantes para um turista gastronômico com base nas informações disponíveis.\n",
      "\n",
      "### Roteiro de Viagem Gastronômica para Paris\n",
      "\n",
      "#### Dia 1:\n",
      "- **Manhã:** Visite o **Mercado de Noël sous les arbres** (se estiver viajando em dezembro) ou explore o **Le Marais** (4º arrondissement), conhecido por sua vibe boêmia e opções gastronômicas.\n",
      "- **Tarde:** Explore o **Museu do Louvre** (1º arrondissement). Embora não seja uma atração gastronômica per se, o Louvre fica em um bairro com muitas opções de restaurantes.\n",
      "- **Noite:** Jantar no **5º ou 6º arrondissement (Latin Quarter e Saint-Germain)**, conhecidos por sua gastronomia.\n",
      "\n",
      "#### Dia 2:\n",
      "- **Manhã:** Café da manhã em um café clássico parisiense no **1º ou 2º arrondissement**, perto do Louvre.\n",
      "- **Tarde:** Visite o **Centre Pompidou** (4º arrondissement) e explore as opções gastronômicas ao redor.\n",
      "- **Noite:** Experimente um jantar com vista na **Torre Eiffel** ou em um restaurante no **7º arrondissement**.\n",
      "\n",
      "#### Dia 3:\n",
      "- **Manhã:** Visite um mercado local como o **Marché aux Enfants Rouges** em Le Marais.\n",
      "- **Tarde:** Passeio pelo **Canal Saint-Martin** ou explore as lojas de comida gourmet.\n",
      "- **Noite:** Desfrute de um jantar de despedida em um restaurante de alta gastronomia.\n",
      "\n",
      "### Sugestões Adicionais:\n",
      "- **Bairros Recomendados para Ficar:** 5º e 6º arrondissements para uma experiência gastronômica autêntica.\n",
      "- **Eventos Locais:** Verifique se há algum festival gastronômico ou feira de comida acontecendo durante sua viagem.\n",
      "\n",
      "### Limitações:\n",
      "Infelizmente, não há informações específicas sobre atrações gastronômicas ou eventos relacionados à culinária em Paris no contexto fornecido. Portanto, o roteiro sugerido é baseado em pontos turísticos e bairros que podem oferecer uma boa experiência gastronômica.\n",
      "\n",
      "Para um roteiro mais personalizado e focado em gastronomia, recomendo consultar outras fontes ou guias especializados em turismo gastronômico em Paris. \n",
      "\n",
      "Desculpe, não tenho informações mais detalhadas sobre atrações gastronômicas específicas na minha base de conhecimento atual.\n"
     ]
    }
   ],
   "source": [
    "# Exemplo 1: Roteiro de Viagem\n",
    "query = \"Estou planejando uma viagem gastronomica de 3 dias em Paris. Quais atrações você recomenda?\"\n",
    "final_response = final_orchestrator_chain.invoke({\"query\": query})\n",
    "print(final_response)"
   ]
  },
  {
   "cell_type": "code",
   "execution_count": 21,
   "id": "86f68cca",
   "metadata": {},
   "outputs": [
    {
     "name": "stdout",
     "output_type": "stream",
     "text": [
      "## Relatório Logístico: Transporte do Aeroporto Charles de Gaulle para o Centro de Paris\n",
      "\n",
      "### Opções de Transporte\n",
      "\n",
      "1. **Trem RER B:** \n",
      "   - O trem RER B é uma das opções mais rápidas e eficientes para se deslocar do Aeroporto Charles de Gaulle para o centro de Paris.\n",
      "   - O tempo de viagem varia de acordo com a estação de destino, mas geralmente leva entre 35 a 45 minutos até o centro.\n",
      "   - As estações RER B no centro de Paris incluem Denfert-Rochereau, Saint-Michel Notre-Dame, e Gare du Nord, entre outras.\n",
      "\n",
      "2. **Metrô (futuro):** \n",
      "   - Em 2025, novas linhas de metrô automatizadas estarão operacionais, reduzindo ainda mais o tempo de viagem entre o Aeroporto Charles de Gaulle e o centro de Paris.\n",
      "\n",
      "### Sugestões de Acomodação\n",
      "\n",
      "Embora o contexto fornecido não detalhe opções específicas de acomodação, é recomendável considerar hotéis ou acomodações próximas às estações de metrô ou RER para facilitar o deslocamento. Algumas áreas centrais para se hospedar incluem:\n",
      "\n",
      "- **4º arrondissement:** Próximo ao Centre Pompidou.\n",
      "- **7º arrondissement:** Perto do Museu d'Orsay.\n",
      "- **8º arrondissement:** Área do Arco do Triunfo.\n",
      "\n",
      "### Dicas Práticas para Facilitar a Viagem\n",
      "\n",
      "1. **Compre um Passe Navigo:** Para estadias mais longas, um passe Navigo pode ser econômico e conveniente, permitindo o uso ilimitado do metrô, RER, e ônibus dentro das zonas escolhidas.\n",
      "   \n",
      "2. **Use o Metrô e RER:** São as formas mais eficientes de se locomover por Paris. Um bilhete unitário custa €2,50 em 2025. Considere comprar um \"carnê\" de 10 bilhetes para economizar.\n",
      "\n",
      "3. **Evite Horários de Pico:** Planeje suas viagens para evitar horários de pico (geralmente 7h30-9h30 e 16h30-19h30) para minimizar atrasos e aglomerações.\n",
      "\n",
      "4. **Verifique os Horários de Funcionamento:** Certifique-se de verificar os horários de funcionamento do RER B e outras opções de transporte para planejar sua viagem adequadamente.\n",
      "\n",
      "5. **Planeje com Antecedência:** Para eventos e festivais, verifique as datas exatas e planeje seu transporte com antecedência, pois esses eventos podem atrair multidões e afetar o tráfego.\n",
      "\n",
      "### Conclusão\n",
      "\n",
      "O Aeroporto Charles de Gaulle oferece uma conexão eficiente com o centro de Paris através do trem RER B. Com a adição de novas linhas de metrô automatizadas em 2025, a viagem se tornará ainda mais rápida. Hospedar-se em áreas centrais e utilizar o transporte público eficientemente são dicas chave para uma viagem tranquila e agradável a Paris.\n"
     ]
    }
   ],
   "source": [
    "# Exemplo 2: Logística de Transporte\n",
    "query = \"Quais são as melhores opções de transporte do aeroporto Charles de Gaulle para o centro de Paris?\"\n",
    "final_response = final_orchestrator_chain.invoke({\"query\": query})\n",
    "print(final_response)"
   ]
  },
  {
   "cell_type": "code",
   "execution_count": 22,
   "id": "16f40553",
   "metadata": {},
   "outputs": [
    {
     "name": "stdout",
     "output_type": "stream",
     "text": [
      "Os principais pontos turísticos de Paris incluem:\n",
      "\n",
      "1. **Torre Eiffel**: O monumento mais emblemático de Paris, construído por Gustave Eiffel para a Exposição Universal de 1889. Oferece vistas incríveis da cidade a partir de seus três níveis.\n",
      "   - Localização: Champ de Mars, 7º arrondissement.\n",
      "   - Como Chegar: Metrô (estação Bir-Hakeim, linha 6, ou Trocadéro, linhas 6 e 9 para a melhor vista).\n",
      "   - Horário de Funcionamento: Geralmente das 9h30 às 23h.\n",
      "\n",
      "2. **Arco do Triunfo**: Monumento histórico que homenageia os soldados franceses, com vistas do topo dos Champs-Élysées e da cidade.\n",
      "   - Localização: Place Charles de Gaulle, 8º arrondissement.\n",
      "   - Como Chegar: Metrô (estação Charles de Gaulle - Étoile, linhas 1, 2 e 6).\n",
      "\n",
      "3. **Museu d'Orsay**: Museu em uma antiga estação de trem, focado em arte impressionista (Monet, Van Gogh).\n",
      "   - Localização: 7º arrondissement.\n",
      "   - Como Chegar: Metrô (estação Musée d'Orsay, RER C).\n",
      "\n",
      "Além disso, Paris é conhecida por seus monumentos icônicos, museus de classe mundial, charmosos cafés e alta costura. O rio Sena corta a cidade, e suas margens são repletas de pontos de interesse. A Catedral de Notre-Dame, após restauração, também é um ponto de interesse relevante.\n",
      "\n",
      "Para se locomover por Paris, o metrô é a forma mais eficiente, com um bilhete unitário custando €2,50 em 2025. O RER e os ônibus também são opções viáveis.\n"
     ]
    }
   ],
   "source": [
    "# Exemplo 3: Informações sobre pontos turísticos\n",
    "query = \"Quais são os pontos turisticos de paris?\"\n",
    "final_response = final_orchestrator_chain.invoke({\"query\": query})\n",
    "print(final_response)"
   ]
  },
  {
   "cell_type": "code",
   "execution_count": 23,
   "id": "1984ae8a",
   "metadata": {},
   "outputs": [
    {
     "name": "stdout",
     "output_type": "stream",
     "text": [
      "## Guia de Tradução para Falantes de Português em Países Francófonos\n",
      "\n",
      "### Introdução\n",
      "\n",
      "Ao viajar para países onde o francês é a língua oficial, como a França, o Canadá (em algumas províncias), a Bélgica, a Suíça, entre outros, é útil saber algumas frases básicas para se comunicar de forma eficaz. Este guia foca em fornecer frases úteis e dicas culturais para ajudar você a se sentir mais confortável e confiante durante sua viagem.\n",
      "\n",
      "### Frases Úteis em Francês\n",
      "\n",
      "#### Perguntas Básicas\n",
      "\n",
      "- **Onde fica o banheiro?** - \"Où sont les toilettes?\" (Pronúncia: \"u são le twaletes?\")\n",
      "- **Onde posso encontrar...?** - \"Où puis-je trouver...?\" (Pronúncia: \"u pwiz-je truver...\")\n",
      "- **Quanto custa?** - \"Combien ça coûte?\" (Pronúncia: \"kombien sa cout?\")\n",
      "\n",
      "#### Saudações\n",
      "\n",
      "- **Olá** - \"Bonjour\" (Pronúncia: \"bonjour\")\n",
      "- **Tudo bem?** - \"Comment allez-vous?\" (Pronúncia: \"koman alé vu?\")\n",
      "- **Obrigado/Obrigada** - \"Merci\" (Pronúncia: \"mersi\")\n",
      "- **Por favor** - \"S'il vous plaît\" (Pronúncia: \"sil vu ple\")\n",
      "- **Desculpe** - \"Excusez-moi\" (Pronúncia: \"exkusez-mua\")\n",
      "\n",
      "### Dicas Culturais\n",
      "\n",
      "1. **Saudações**: No mundo francófono, as saudações são importantes. Ao encontrar alguém, especialmente em ambientes formais ou com pessoas mais velhas, use \"Bonjour\" seguido de um aperto de mão. Em ambientes informais, um simples \"Salut\" (Olá) pode ser usado.\n",
      "\n",
      "2. **Etiqueta**: Ser educado é crucial. Use \"S'il vous plaît\" (por favor) e \"Merci\" (obrigado/obrigada) frequentemente. Ao entrar em uma loja ou restaurante, cumprimente os funcionários com \"Bonjour\".\n",
      "\n",
      "3. **Comunicação Não Verbal**: Os franceses tendem a ser expressivos com as mãos ao falar. Manter as mãos visíveis (não as colocar nos bolsos) e fazer contato visual é considerado educado.\n",
      "\n",
      "4. **Perguntar Direções**: Ao perguntar direções, seja claro e use frases como \"Excusez-moi, où sont les toilettes?\" (Desculpe, onde fica o banheiro?). Os locais geralmente são prestativos, mas podem se sentir desconfortáveis com o inglês, então tentar falar em francês é apreciado.\n",
      "\n",
      "5. **Aprender Algumas Palavras**: Mostrar esforço para falar o idioma local é valorizado. Mesmo que você só saiba algumas frases, isso pode fazer uma grande diferença na sua experiência de viagem.\n",
      "\n",
      "### Conclusão\n",
      "\n",
      "Saber algumas frases básicas em francês e estar ciente das nuances culturais pode melhorar significativamente sua experiência de viagem. Lembre-se de que a prática leva à perfeição, então não hesite em usar o que aprendeu. Boa viagem!\n"
     ]
    }
   ],
   "source": [
    "# Exemplo 4: Guia de tradução e idiomas\n",
    "query = \"Como digo 'onde fica o banheiro?' em francês?\"\n",
    "final_response = final_orchestrator_chain.invoke({\"query\": query})\n",
    "print(final_response)"
   ]
  },
  {
   "cell_type": "code",
   "execution_count": 24,
   "id": "c1a56b91",
   "metadata": {},
   "outputs": [
    {
     "name": "stdout",
     "output_type": "stream",
     "text": [
      "Desculpe, não tenho informações sobre isso na minha base de conhecimento atual. No entanto, posso ajudar com perguntas relacionadas a roteiros de viagem, logística de transporte, informações locais ou guias de tradução. Por favor, sinta-se à vontade para perguntar sobre esses tópicos.\n"
     ]
    }
   ],
   "source": [
    "# Exemplo 5: Geral\n",
    "query = \"Qual é a capital da França?\"\n",
    "final_response = final_orchestrator_chain.invoke({\"query\": query})\n",
    "print(final_response)"
   ]
  }
 ],
 "metadata": {
  "kernelspec": {
   "display_name": "sistema_turismo_langchain",
   "language": "python",
   "name": "python3"
  },
  "language_info": {
   "codemirror_mode": {
    "name": "ipython",
    "version": 3
   },
   "file_extension": ".py",
   "mimetype": "text/x-python",
   "name": "python",
   "nbconvert_exporter": "python",
   "pygments_lexer": "ipython3",
   "version": "3.13.7"
  }
 },
 "nbformat": 4,
 "nbformat_minor": 5
}
